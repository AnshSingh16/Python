{
  "nbformat": 4,
  "nbformat_minor": 0,
  "metadata": {
    "colab": {
      "provenance": [],
      "authorship_tag": "ABX9TyNMzR4glsvVjkiOm4S8fJ98",
      "include_colab_link": true
    },
    "kernelspec": {
      "name": "python3",
      "display_name": "Python 3"
    },
    "language_info": {
      "name": "python"
    }
  },
  "cells": [
    {
      "cell_type": "markdown",
      "metadata": {
        "id": "view-in-github",
        "colab_type": "text"
      },
      "source": [
        "<a href=\"https://colab.research.google.com/github/AnshSingh16/Python/blob/main/Python_codes.ipynb\" target=\"_parent\"><img src=\"https://colab.research.google.com/assets/colab-badge.svg\" alt=\"Open In Colab\"/></a>"
      ]
    },
    {
      "cell_type": "code",
      "execution_count": 3,
      "metadata": {
        "colab": {
          "base_uri": "https://localhost:8080/"
        },
        "id": "ZJFT44YWGm_U",
        "outputId": "b46282ab-667a-4e41-adf0-d9e43f0e31c7"
      },
      "outputs": [
        {
          "output_type": "stream",
          "name": "stdout",
          "text": [
            "Enter 1st no.1\n",
            "Enter 2nd no.2\n",
            "3\n"
          ]
        }
      ],
      "source": [
        "a=int(input(\"Enter 1st no.\"))\n",
        "b=int(input(\"Enter 2nd no.\"))\n",
        "Sum=a+b\n",
        "print(Sum)"
      ]
    },
    {
      "cell_type": "code",
      "source": [
        "a,b,c=10,40,50\n",
        "print(a,b,c)"
      ],
      "metadata": {
        "colab": {
          "base_uri": "https://localhost:8080/"
        },
        "id": "mImUPh47IbpB",
        "outputId": "0f35a7dd-f3f8-47c3-c5df-26d5b1f750aa"
      },
      "execution_count": 4,
      "outputs": [
        {
          "output_type": "stream",
          "name": "stdout",
          "text": [
            "10 40 50\n"
          ]
        }
      ]
    },
    {
      "cell_type": "code",
      "source": [
        "r=int(input(\"enter radius:\"))\n",
        "p=2*3.14*r\n",
        "a=3.14*r*r\n",
        "print(\"Perimeter\",p)\n",
        "print(\"Area\",a)"
      ],
      "metadata": {
        "colab": {
          "base_uri": "https://localhost:8080/"
        },
        "id": "hUpIjT2tKtVC",
        "outputId": "8c1a6816-2ab4-4372-cfc6-1e6aeb0678d3"
      },
      "execution_count": 5,
      "outputs": [
        {
          "output_type": "stream",
          "name": "stdout",
          "text": [
            "enter radius:4\n",
            "Perimeter 25.12\n",
            "Area 50.24\n"
          ]
        }
      ]
    },
    {
      "cell_type": "code",
      "source": [
        "L=int(input(\"Enter length:\"))\n",
        "B=int(input(\"Enter Breadth:\"))\n",
        "p=2*(L+B)\n",
        "a=L*B\n",
        "print(\"Perimeter\",p)\n",
        "print(\"Area\",a)"
      ],
      "metadata": {
        "colab": {
          "base_uri": "https://localhost:8080/"
        },
        "id": "QM6S0ddjKxMi",
        "outputId": "1f938db9-1474-45d4-f633-bd13c0eb973d"
      },
      "execution_count": 6,
      "outputs": [
        {
          "output_type": "stream",
          "name": "stdout",
          "text": [
            "Enter length:4\n",
            "Enter Breadth:5\n",
            "Perimeter 18\n",
            "Area 20\n"
          ]
        }
      ]
    },
    {
      "cell_type": "code",
      "source": [
        "B=int(input(\"Enter Base:\"))\n",
        "H=int(input(\"Enter Height:\"))\n",
        "P=int(input(\"Enter third Side:\"))\n",
        "p=B+H+P\n",
        "a=(1/2)*B*H\n",
        "print(\"Perimeter\",p)\n",
        "print(\"Area\",a)"
      ],
      "metadata": {
        "colab": {
          "base_uri": "https://localhost:8080/"
        },
        "id": "9zKJXHgTLcfG",
        "outputId": "ea115275-a590-4a89-e62a-910c2c4c57ff"
      },
      "execution_count": 7,
      "outputs": [
        {
          "output_type": "stream",
          "name": "stdout",
          "text": [
            "Enter Base:5\n",
            "Enter Height:4\n",
            "Enter third Side:3\n",
            "Perimeter 12\n",
            "Area 10.0\n"
          ]
        }
      ]
    },
    {
      "cell_type": "code",
      "source": [
        "a=int(input(\"Enter A No.\"))\n",
        "if(a%2==0):\n",
        " print(\"even\")\n",
        "else:\n",
        " print(\"odd\")"
      ],
      "metadata": {
        "colab": {
          "base_uri": "https://localhost:8080/"
        },
        "id": "OGkLMINwMY_6",
        "outputId": "ebbdce2e-f85f-44e4-971c-f7aa9ac8a139"
      },
      "execution_count": 8,
      "outputs": [
        {
          "output_type": "stream",
          "name": "stdout",
          "text": [
            "Enter A No.343\n",
            "odd\n"
          ]
        }
      ]
    },
    {
      "cell_type": "code",
      "source": [
        "a=10\n",
        "b=3\n",
        "sum=a+b\n",
        "sub=a-b\n",
        "mul=a*b\n",
        "div=a/b\n",
        "ddiv=a//b\n",
        "mod=a%b\n",
        "print(sum,sub,mul,div,ddiv,mod)"
      ],
      "metadata": {
        "colab": {
          "base_uri": "https://localhost:8080/"
        },
        "id": "_CgAmNTMC6Hm",
        "outputId": "065be3be-76c7-42b7-ec0b-ffd1450c9075"
      },
      "execution_count": 9,
      "outputs": [
        {
          "output_type": "stream",
          "name": "stdout",
          "text": [
            "13 7 30 3.3333333333333335 3 1\n"
          ]
        }
      ]
    },
    {
      "cell_type": "code",
      "source": [
        "a=30\n",
        "b=20\n",
        "print(a==b,a!=b,a>b,a<b,a>=b,a<=b)"
      ],
      "metadata": {
        "colab": {
          "base_uri": "https://localhost:8080/"
        },
        "id": "yXb2yMVLFnzX",
        "outputId": "43781353-a4c3-4805-d3ed-4bfc1ff84548"
      },
      "execution_count": 10,
      "outputs": [
        {
          "output_type": "stream",
          "name": "stdout",
          "text": [
            "False True True False True False\n"
          ]
        }
      ]
    },
    {
      "cell_type": "code",
      "source": [
        "att=float(input(\"Enter Attendance:\"))\n",
        "if(att>75 and att<=100):\n",
        " print(\"A+\")\n",
        "elif(att<75):\n",
        " print(\"B+\")\n",
        "elif(att<60):\n",
        " print(\"C\")\n",
        "elif(att<50):\n",
        " print(\"Poor Attendence\")\n",
        "else:\n",
        " print(\"Invalid Input\")"
      ],
      "metadata": {
        "colab": {
          "base_uri": "https://localhost:8080/"
        },
        "id": "JiHUyVeeDZz6",
        "outputId": "965931c4-3902-4e38-a4b2-ac27852701cf"
      },
      "execution_count": 11,
      "outputs": [
        {
          "output_type": "stream",
          "name": "stdout",
          "text": [
            "Enter Attendance:43\n",
            "B+\n"
          ]
        }
      ]
    },
    {
      "cell_type": "code",
      "source": [
        "x=7\n",
        "if x>5 and x<10:\n",
        " print(\"x is between 5 and 10\")\n",
        "if x<5 or x>10:\n",
        " print(\"x is outside the range 5-10\")\n",
        "else:\n",
        " print(\"x is within the range 5-10\")"
      ],
      "metadata": {
        "colab": {
          "base_uri": "https://localhost:8080/"
        },
        "id": "SmRolLeiBr0x",
        "outputId": "06c6bb51-6aaa-4616-dab8-2ad16a347ee9"
      },
      "execution_count": 12,
      "outputs": [
        {
          "output_type": "stream",
          "name": "stdout",
          "text": [
            "x is between 5 and 10\n",
            "x is within the range 5-10\n"
          ]
        }
      ]
    },
    {
      "cell_type": "code",
      "source": [
        "s1=\"Ansh\"\n",
        "s2=\"Singh\"\n",
        "final_str=(s1+\" \"+s2)\n",
        "print(final_str[0:2])"
      ],
      "metadata": {
        "colab": {
          "base_uri": "https://localhost:8080/"
        },
        "id": "CCirebU-GEQ0",
        "outputId": "4567bc9c-a89e-4b07-9a50-8dae5f4d748a"
      },
      "execution_count": 13,
      "outputs": [
        {
          "output_type": "stream",
          "name": "stdout",
          "text": [
            "An\n"
          ]
        }
      ]
    },
    {
      "cell_type": "code",
      "source": [
        "List=[10,20,40]\n",
        "print(List)\n",
        "List.append(80)\n",
        "print(List)\n",
        "print(List[1])"
      ],
      "metadata": {
        "colab": {
          "base_uri": "https://localhost:8080/"
        },
        "id": "wWMwtieTJ8mc",
        "outputId": "1731f957-c844-42cd-ba1d-f338cb725912"
      },
      "execution_count": 14,
      "outputs": [
        {
          "output_type": "stream",
          "name": "stdout",
          "text": [
            "[10, 20, 40]\n",
            "[10, 20, 40, 80]\n",
            "20\n"
          ]
        }
      ]
    },
    {
      "cell_type": "code",
      "source": [
        "for i in range(3):\n",
        " print(i)"
      ],
      "metadata": {
        "colab": {
          "base_uri": "https://localhost:8080/"
        },
        "id": "-a5tpWzGNajR",
        "outputId": "b9d1f45d-7cdc-4e88-a1d1-31451d9b5480"
      },
      "execution_count": 15,
      "outputs": [
        {
          "output_type": "stream",
          "name": "stdout",
          "text": [
            "0\n",
            "1\n",
            "2\n"
          ]
        }
      ]
    },
    {
      "cell_type": "code",
      "source": [
        "my_tup=(1,2,3,2,)\n",
        "print(my_tup)"
      ],
      "metadata": {
        "colab": {
          "base_uri": "https://localhost:8080/"
        },
        "id": "5drTLG26OZ4Y",
        "outputId": "ded01929-3694-406a-c045-9f562cb027b3"
      },
      "execution_count": 16,
      "outputs": [
        {
          "output_type": "stream",
          "name": "stdout",
          "text": [
            "(1, 2, 3, 2)\n"
          ]
        }
      ]
    },
    {
      "cell_type": "code",
      "source": [
        "student={\n",
        "         \"Name\":\"rahul\",\n",
        "         \"Roll_no\":2,\n",
        "         \"marks\":70,\n",
        "         \"class\":{\n",
        "              \"Branch\":\"aiml\",\n",
        "              \"Section\":\"A\"\n",
        "   }\n",
        "}\n",
        "print(student)\n",
        "print(type(student))"
      ],
      "metadata": {
        "colab": {
          "base_uri": "https://localhost:8080/"
        },
        "id": "IaCesz_QJP3C",
        "outputId": "7c89e7e2-b143-4817-fcb3-f8cd4b24f213"
      },
      "execution_count": 17,
      "outputs": [
        {
          "output_type": "stream",
          "name": "stdout",
          "text": [
            "{'Name': 'rahul', 'Roll_no': 2, 'marks': 70, 'class': {'Branch': 'aiml', 'Section': 'A'}}\n",
            "<class 'dict'>\n"
          ]
        }
      ]
    },
    {
      "cell_type": "code",
      "source": [
        "a=1\n",
        "b=1\n",
        "a==b\n",
        "a is b"
      ],
      "metadata": {
        "colab": {
          "base_uri": "https://localhost:8080/"
        },
        "id": "vtDHokOl1NQG",
        "outputId": "220ad4f9-b847-4aa8-a979-aa49167ac9ca"
      },
      "execution_count": 18,
      "outputs": [
        {
          "output_type": "execute_result",
          "data": {
            "text/plain": [
              "True"
            ]
          },
          "metadata": {},
          "execution_count": 18
        }
      ]
    },
    {
      "cell_type": "code",
      "source": [
        "email=input(\"Enter your email Id: \")\n",
        "\n",
        "if '@' in email and '.' in email:\n",
        " print(\"Valid Email Id\")\n",
        " password = int(input(\"Enter your password(minimum 4 digits): \"))\n",
        " if(email ==\"ansh@gmail.com\" and password == 2314):\n",
        "  print(\"Login Successful\")\n",
        " else:\n",
        "  print(\"Login Failed\")\n",
        "else:\n",
        " print(\"Invalid Email Id\")"
      ],
      "metadata": {
        "colab": {
          "base_uri": "https://localhost:8080/"
        },
        "id": "nRvDxga34wf1",
        "outputId": "39df56a1-79ea-45e3-ec05-1ee3e11ea2b0"
      },
      "execution_count": 19,
      "outputs": [
        {
          "output_type": "stream",
          "name": "stdout",
          "text": [
            "Enter your email Id: ansh@gmail.com\n",
            "Valid Email Id\n",
            "Enter your password(minimum 4 digits): 2314\n",
            "Login Successful\n"
          ]
        }
      ]
    },
    {
      "cell_type": "code",
      "source": [
        "for i in range(1,6):\n",
        " print(\"*\"*i)\n",
        "for i in range(6,0,-1):\n",
        " print(\"*\"*i)"
      ],
      "metadata": {
        "colab": {
          "base_uri": "https://localhost:8080/"
        },
        "id": "8RQ6FehzP_mS",
        "outputId": "84557523-2fea-49bd-ec14-7474560b533b"
      },
      "execution_count": 20,
      "outputs": [
        {
          "output_type": "stream",
          "name": "stdout",
          "text": [
            "*\n",
            "**\n",
            "***\n",
            "****\n",
            "*****\n",
            "******\n",
            "*****\n",
            "****\n",
            "***\n",
            "**\n",
            "*\n"
          ]
        }
      ]
    },
    {
      "cell_type": "code",
      "source": [
        "for i in range(1,6):\n",
        " print(\"*\"*i)"
      ],
      "metadata": {
        "colab": {
          "base_uri": "https://localhost:8080/"
        },
        "id": "RE75QJMCRY0K",
        "outputId": "af6cc621-c111-44e6-d781-3228e4069ae6"
      },
      "execution_count": 21,
      "outputs": [
        {
          "output_type": "stream",
          "name": "stdout",
          "text": [
            "*\n",
            "**\n",
            "***\n",
            "****\n",
            "*****\n"
          ]
        }
      ]
    },
    {
      "cell_type": "code",
      "source": [
        "rows=5\n",
        "for i in range(1,rows +1):\n",
        "  print(\" \"*(rows-i)+\"* \"*i)"
      ],
      "metadata": {
        "id": "BJoxqKUVAdTp",
        "outputId": "4695a744-c492-4509-c684-c6f2e3a32a0f",
        "colab": {
          "base_uri": "https://localhost:8080/"
        }
      },
      "execution_count": 22,
      "outputs": [
        {
          "output_type": "stream",
          "name": "stdout",
          "text": [
            "    * \n",
            "   * * \n",
            "  * * * \n",
            " * * * * \n",
            "* * * * * \n"
          ]
        }
      ]
    },
    {
      "cell_type": "code",
      "source": [
        "rows=5\n",
        "for i in range(1,rows +1):\n",
        "  for j in range(1,i +1):\n",
        "    print(j,end=\"\")\n",
        "  print()"
      ],
      "metadata": {
        "id": "XC1KZeD2Aehh",
        "outputId": "1e96759c-b9c2-4996-cb45-e2e35ff3ae45",
        "colab": {
          "base_uri": "https://localhost:8080/"
        }
      },
      "execution_count": 23,
      "outputs": [
        {
          "output_type": "stream",
          "name": "stdout",
          "text": [
            "1\n",
            "12\n",
            "123\n",
            "1234\n",
            "12345\n"
          ]
        }
      ]
    },
    {
      "cell_type": "code",
      "source": [
        "a=input(\"Enter any String: \")\n",
        "count = 0\n",
        "for i in a:\n",
        "    if i in \"AEIOUaeiou\":\n",
        "        count +=1\n",
        "print(count)"
      ],
      "metadata": {
        "id": "C6Ra3Q-wNcPD",
        "colab": {
          "base_uri": "https://localhost:8080/"
        },
        "outputId": "6f01f113-9306-439a-da7d-6ca6c140220a"
      },
      "execution_count": 24,
      "outputs": [
        {
          "output_type": "stream",
          "name": "stdout",
          "text": [
            "Enter any String: good\n",
            "2\n"
          ]
        }
      ]
    },
    {
      "cell_type": "code",
      "source": [
        "import random\n",
        "Jackpot=random.randint(1,10)\n",
        "N=int(input(\"Enter The No. \"))\n",
        "if(Jackpot<N):\n",
        " print(\"guess lower\")\n",
        "elif(Jackpot>N):\n",
        " print(\"guess higher\")\n",
        "else:\n",
        " print(\"Jackpot\")\n",
        "print(\"the no. Is\",Jackpot)"
      ],
      "metadata": {
        "id": "WHagohhU7CNq",
        "colab": {
          "base_uri": "https://localhost:8080/"
        },
        "outputId": "b429723e-9ac3-4e32-9d1d-f6a4e118739d"
      },
      "execution_count": 25,
      "outputs": [
        {
          "output_type": "stream",
          "name": "stdout",
          "text": [
            "Enter The No. 23\n",
            "guess lower\n",
            "the no. Is 7\n"
          ]
        }
      ]
    },
    {
      "cell_type": "code",
      "source": [
        "def compute(x):\n",
        "   return [i**2 for i in x]\n",
        "print(compute([1,2,3,4,5]))"
      ],
      "metadata": {
        "colab": {
          "base_uri": "https://localhost:8080/"
        },
        "id": "EXVVUW5OCkjz",
        "outputId": "a904cedf-537f-4889-89e8-77aab7cbbe7a"
      },
      "execution_count": 26,
      "outputs": [
        {
          "output_type": "stream",
          "name": "stdout",
          "text": [
            "[1, 4, 9, 16, 25]\n"
          ]
        }
      ]
    },
    {
      "cell_type": "code",
      "source": [
        "a=float(input(\"enter first no:\"))\n",
        "b=float(input(\"enter second no: \"))\n",
        "c=input(\"enter the operation\")\n",
        "if(c==\"+\"):\n",
        " print(a+b)\n",
        "elif(c==\"-\"):\n",
        " print(a-b)\n",
        "elif(c==\"*\"):\n",
        " print(a*b)\n",
        "elif(c==\"/\"):\n",
        " print(a/b)\n",
        "else:\n",
        " print(\"input not supported\")"
      ],
      "metadata": {
        "id": "6AImGyEcD2f4",
        "colab": {
          "base_uri": "https://localhost:8080/"
        },
        "outputId": "c8d2f409-4003-4694-c49a-2ebbb260f769"
      },
      "execution_count": 27,
      "outputs": [
        {
          "output_type": "stream",
          "name": "stdout",
          "text": [
            "enter first no:32\n",
            "enter second no: 34\n",
            "enter the operation/\n",
            "0.9411764705882353\n"
          ]
        }
      ]
    },
    {
      "cell_type": "code",
      "source": [
        "l1=[1,2,3,4,5]\n",
        "print(l1)"
      ],
      "metadata": {
        "colab": {
          "base_uri": "https://localhost:8080/"
        },
        "id": "GajsytsFXnVm",
        "outputId": "f9800a47-4b82-48d7-fcbd-cc85e5ec6d4f"
      },
      "execution_count": 28,
      "outputs": [
        {
          "output_type": "stream",
          "name": "stdout",
          "text": [
            "[1, 2, 3, 4, 5]\n"
          ]
        }
      ]
    },
    {
      "cell_type": "code",
      "source": [
        "l1=[]\n",
        "l1.append(4)\n",
        "print(l1)\n",
        "l1.append(\"hello\")\n",
        "print(l1)"
      ],
      "metadata": {
        "colab": {
          "base_uri": "https://localhost:8080/"
        },
        "id": "wpAvNYoyX2HB",
        "outputId": "6a75e29f-c73b-445a-b7d6-ba61183c038c"
      },
      "execution_count": 29,
      "outputs": [
        {
          "output_type": "stream",
          "name": "stdout",
          "text": [
            "[4]\n",
            "[4, 'hello']\n"
          ]
        }
      ]
    },
    {
      "cell_type": "code",
      "source": [
        "l1=[3,5,6,7,8]\n",
        "print(l1[-2])"
      ],
      "metadata": {
        "colab": {
          "base_uri": "https://localhost:8080/"
        },
        "id": "7N8UpyQecsxu",
        "outputId": "50a6c4e8-5e25-447a-b1e6-7d035a7f3a6c"
      },
      "execution_count": 30,
      "outputs": [
        {
          "output_type": "stream",
          "name": "stdout",
          "text": [
            "7\n"
          ]
        }
      ]
    },
    {
      "cell_type": "code",
      "source": [
        "a=[1,6,8,4,9]\n",
        "m=1\n",
        "for i in a:\n",
        "    m=m * i\n",
        "print(m)"
      ],
      "metadata": {
        "colab": {
          "base_uri": "https://localhost:8080/"
        },
        "id": "Ock1mp6hdOjh",
        "outputId": "333373bb-3ded-4440-e4ed-a3133d82de6f"
      },
      "execution_count": 31,
      "outputs": [
        {
          "output_type": "stream",
          "name": "stdout",
          "text": [
            "1728\n"
          ]
        }
      ]
    },
    {
      "cell_type": "code",
      "source": [
        "a=[5,6,8,4]"
      ],
      "metadata": {
        "id": "GBT8kS1oduT-"
      },
      "execution_count": 32,
      "outputs": []
    },
    {
      "cell_type": "code",
      "source": [
        "T1=(20)\n",
        "print(type(T1))\n",
        "T2=(20,)\n",
        "print(type(T2))"
      ],
      "metadata": {
        "colab": {
          "base_uri": "https://localhost:8080/"
        },
        "id": "gUpLJ9zhFzW9",
        "outputId": "f0b0ee71-5305-4248-bc83-47a39d88827e"
      },
      "execution_count": 33,
      "outputs": [
        {
          "output_type": "stream",
          "name": "stdout",
          "text": [
            "<class 'int'>\n",
            "<class 'tuple'>\n"
          ]
        }
      ]
    },
    {
      "cell_type": "code",
      "source": [
        "n=int(input(\"Enter The No. Of Element in list: \"))\n",
        "L1=[]\n",
        "s=0\n",
        "for i in (0,n):\n",
        " a=int(input(\"Enter Elements: \"))\n",
        " L1.append(a)\n",
        "print(L1)\n",
        "for k in range(0,len(L1)):\n",
        " if(L1[k]%2==0):\n",
        "  s=s+L1[k]\n",
        "print(s)"
      ],
      "metadata": {
        "id": "JA3-uGlSIHD9",
        "colab": {
          "base_uri": "https://localhost:8080/"
        },
        "outputId": "208da9a0-36eb-4f06-bb3a-24c4a18dd3b5"
      },
      "execution_count": 34,
      "outputs": [
        {
          "output_type": "stream",
          "name": "stdout",
          "text": [
            "Enter The No. Of Element in list: 3\n",
            "Enter Elements: 5\n",
            "Enter Elements: 5\n",
            "[5, 5]\n",
            "0\n"
          ]
        }
      ]
    },
    {
      "cell_type": "code",
      "source": [
        "def sum(a,b):\n",
        " sum= a+b\n",
        " return sum\n",
        "def sub(a,b):\n",
        " sub=a-b\n",
        " return sub\n",
        "def mul(a,b):\n",
        " mul=a*b\n",
        " return mul\n",
        "a=int(input(\"Enter First No.: \"))\n",
        "b=int(input(\"Enter Second No.: \"))\n",
        "print(\"The Sum is =\",sum(a,b))\n",
        "print(\"The Sub is =\",sub(a,b))\n",
        "print(\"The mul is =\",mul(a,b))"
      ],
      "metadata": {
        "colab": {
          "base_uri": "https://localhost:8080/"
        },
        "id": "zDmxwQAuDCG2",
        "outputId": "b0a12cd4-7455-4d02-e72c-82e0393305c4"
      },
      "execution_count": 35,
      "outputs": [
        {
          "output_type": "stream",
          "name": "stdout",
          "text": [
            "Enter First No.: 2\n",
            "Enter Second No.: 3\n",
            "The Sum is = 5\n",
            "The Sub is = -1\n",
            "The mul is = 6\n"
          ]
        }
      ]
    },
    {
      "cell_type": "code",
      "source": [
        "def roll(a,l1):\n",
        " if a in l1:\n",
        "  print(\"Present\")\n",
        " else:\n",
        "  print(\"absent\")\n",
        "b=int(input(\"total present student:\"))\n",
        "a=int(input(\"Enter Roll no. To check:\"))\n",
        "l1=[]\n",
        "for i in (0,b):\n",
        " c=int(input(\"Enter Present Roll no. :\"))\n",
        " l1.append(c)\n",
        "roll(a,l1)"
      ],
      "metadata": {
        "colab": {
          "base_uri": "https://localhost:8080/"
        },
        "id": "E1BV1CPaFeXq",
        "outputId": "f2d005b8-0cec-45b2-f199-75a1aadbacab"
      },
      "execution_count": 36,
      "outputs": [
        {
          "output_type": "stream",
          "name": "stdout",
          "text": [
            "total present student:45\n",
            "Enter Roll no. To check:5\n",
            "Enter Present Roll no. :54\n",
            "Enter Present Roll no. :23\n",
            "absent\n"
          ]
        }
      ]
    },
    {
      "cell_type": "code",
      "source": [
        "\n",
        "def max(a,b,c):\n",
        " if(a>b and a>c):\n",
        "  print(f\"{a} is the maximum\")\n",
        " elif(b>a and b>c):\n",
        "  print(f\"{b} is the maximum\")\n",
        " else:\n",
        "  print(f\"{c} is the maximum\")\n",
        "a=int(input(\"Enter First no.\"))\n",
        "b=int(input(\"Enter second no.\"))\n",
        "c=int(input(\"Enter third no.\"))\n",
        "max(a,b,c)"
      ],
      "metadata": {
        "colab": {
          "base_uri": "https://localhost:8080/"
        },
        "id": "5g-pkJvRJaLG",
        "outputId": "791e0497-2857-4af4-f720-ae418e7668c8"
      },
      "execution_count": 37,
      "outputs": [
        {
          "output_type": "stream",
          "name": "stdout",
          "text": [
            "Enter First no.1\n",
            "Enter second no.232\n",
            "Enter third no.3\n",
            "232 is the maximum\n"
          ]
        }
      ]
    },
    {
      "cell_type": "code",
      "source": [
        "def number(a):\n",
        " if(a%2==0):\n",
        "  print(a,\"is even\")\n",
        " else:\n",
        "  print(a,\"is odd\")\n",
        "a=int(input(\"Enter The no.\"))\n",
        "number(a)"
      ],
      "metadata": {
        "colab": {
          "base_uri": "https://localhost:8080/"
        },
        "id": "tHR_nOdJclmK",
        "outputId": "4af008e7-52f5-4d4e-922b-8a462af74751"
      },
      "execution_count": 38,
      "outputs": [
        {
          "output_type": "stream",
          "name": "stdout",
          "text": [
            "Enter The no.4343\n",
            "4343 is odd\n"
          ]
        }
      ]
    },
    {
      "cell_type": "code",
      "source": [
        "def m(x):\n",
        " for i in range(1,11,1):\n",
        "  print(f\"{x}X{i}={x*i}\")\n",
        "a=int(input(\"enter the no.\"))\n",
        "m(a)"
      ],
      "metadata": {
        "colab": {
          "base_uri": "https://localhost:8080/"
        },
        "id": "RH4u0SopaG4C",
        "outputId": "4bc24a1c-6131-4725-94bf-a34a70392c75"
      },
      "execution_count": 39,
      "outputs": [
        {
          "output_type": "stream",
          "name": "stdout",
          "text": [
            "enter the no.4343\n",
            "4343X1=4343\n",
            "4343X2=8686\n",
            "4343X3=13029\n",
            "4343X4=17372\n",
            "4343X5=21715\n",
            "4343X6=26058\n",
            "4343X7=30401\n",
            "4343X8=34744\n",
            "4343X9=39087\n",
            "4343X10=43430\n"
          ]
        }
      ]
    },
    {
      "cell_type": "code",
      "source": [
        "a='hari'\n",
        "b='hale'\n",
        "for i in a:\n",
        " if i in b:\n",
        "   print(i)"
      ],
      "metadata": {
        "colab": {
          "base_uri": "https://localhost:8080/"
        },
        "id": "kiF19qwbpBLa",
        "outputId": "9415140f-7a58-4118-870f-0d2680fc05cd"
      },
      "execution_count": 40,
      "outputs": [
        {
          "output_type": "stream",
          "name": "stdout",
          "text": [
            "h\n",
            "a\n"
          ]
        }
      ]
    },
    {
      "cell_type": "code",
      "source": [
        "import numpy as np\n",
        "\n",
        "arr = np.array([1, 2, 3, 4, 5])\n",
        "matrix = np.array([[1, 2, 3],\n",
        "                   [4, 5, 6],\n",
        "                   [7, 8, 9]])\n",
        "\n",
        "print(arr)\n",
        "print(matrix)\n",
        "\n",
        "arr = arr * 2\n",
        "print(arr)\n"
      ],
      "metadata": {
        "colab": {
          "base_uri": "https://localhost:8080/"
        },
        "id": "zvyveqMpCGE_",
        "outputId": "0179711e-a4c7-4143-cbe6-80189a864798"
      },
      "execution_count": 41,
      "outputs": [
        {
          "output_type": "stream",
          "name": "stdout",
          "text": [
            "[1 2 3 4 5]\n",
            "[[1 2 3]\n",
            " [4 5 6]\n",
            " [7 8 9]]\n",
            "[ 2  4  6  8 10]\n"
          ]
        }
      ]
    },
    {
      "cell_type": "code",
      "source": [
        "import matplotlib.pyplot as plt\n",
        "\n",
        "x = [1, 2, 3, 4, 5]\n",
        "y = [5, 7, 4, 6, 8]\n",
        "\n",
        "plt.plot(x, y, color='red', marker='o')\n",
        "plt.title(\"Scatter Plot of Points\")\n",
        "plt.xlabel(\"X-axis\")\n",
        "plt.ylabel(\"Y-axis\")\n",
        "plt.show()\n"
      ],
      "metadata": {
        "colab": {
          "base_uri": "https://localhost:8080/",
          "height": 472
        },
        "id": "_a3IuFqgCInT",
        "outputId": "c2202674-4877-4613-8d2d-83414d156882"
      },
      "execution_count": 44,
      "outputs": [
        {
          "output_type": "display_data",
          "data": {
            "text/plain": [
              "<Figure size 640x480 with 1 Axes>"
            ],
            "image/png": "[encoded data removed]"
          },
          "metadata": {}
        }
      ]
    },
    {
      "cell_type": "code",
      "source": [
        "file = open(\"example.txt\", \"w\")\n",
        "file.write(\"Hello, this is a basic file handling example.\\n\")\n",
        "file.write(\"Python makes file handling easy!\")\n",
        "file.close()\n",
        "\n",
        "file = open(\"example.txt\", \"r\")\n",
        "content = file.read()\n",
        "print(content)\n",
        "file.close()\n",
        "\n",
        "file = open(\"example.txt\", \"a\")\n",
        "file.write(\"\\nThis line is appended to the file.\")\n",
        "file.close()\n",
        "\n",
        "file = open(\"example.txt\", \"r\")\n",
        "for line in file:\n",
        "    print(line.strip())\n",
        "file.close()\n"
      ],
      "metadata": {
        "id": "mZ_S3_TEC3Gq",
        "outputId": "92c8c81f-864b-4d9e-cec9-0ff07ff06d29",
        "colab": {
          "base_uri": "https://localhost:8080/"
        }
      },
      "execution_count": 45,
      "outputs": [
        {
          "output_type": "stream",
          "name": "stdout",
          "text": [
            "Hello, this is a basic file handling example.\n",
            "Python makes file handling easy!\n",
            "Hello, this is a basic file handling example.\n",
            "Python makes file handling easy!\n",
            "This line is appended to the file.\n"
          ]
        }
      ]
    }
  ]
}